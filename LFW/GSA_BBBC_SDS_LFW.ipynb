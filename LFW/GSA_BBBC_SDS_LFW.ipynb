{
 "cells": [
  {
   "cell_type": "code",
   "execution_count": 4,
   "metadata": {},
   "outputs": [],
   "source": [
    "import numpy as np\n",
    "import matplotlib.pyplot as plt\n",
    "from sklearn.datasets import fetch_lfw_people\n",
    "from sklearn.decomposition import PCA\n",
    "from sklearn.preprocessing import LabelBinarizer\n",
    "from sklearn.multiclass import OneVsRestClassifier\n",
    "from sklearn.metrics import roc_curve, auc\n",
    "from scipy import interp\n",
    "#from sklearn import svm\n",
    "from sklearn.metrics import classification_report\n",
    "from sklearn.model_selection import train_test_split\n",
    "from sklearn.metrics import confusion_matrix\n",
    "#import FaceRecognitionLFW\n",
    "from time import time\n",
    "import random\n",
    "#from sklearn.model_selection import GridSearchCV\n",
    "from sklearn.neighbors import KNeighborsClassifier"
   ]
  },
  {
   "cell_type": "code",
   "execution_count": 5,
   "metadata": {},
   "outputs": [
    {
     "name": "stdout",
     "output_type": "stream",
     "text": [
      "Data Loaded\n",
      "no of samples: 3023\n"
     ]
    }
   ],
   "source": [
    "faces_db = fetch_lfw_people(min_faces_per_person= 20, resize=0.6)\n",
    "print(\"Data Loaded\")\n",
    "no_of_samples, h, w = faces_db.images.shape\n",
    "print(\"no of samples: %d\" % no_of_samples)"
   ]
  },
  {
   "cell_type": "code",
   "execution_count": 6,
   "metadata": {
    "collapsed": true
   },
   "outputs": [],
   "source": [
    "X = faces_db.data\n",
    "y = faces_db.target"
   ]
  },
  {
   "cell_type": "code",
   "execution_count": 7,
   "metadata": {},
   "outputs": [
    {
     "data": {
      "text/plain": [
       "(3023, 4200)"
      ]
     },
     "execution_count": 7,
     "metadata": {},
     "output_type": "execute_result"
    }
   ],
   "source": [
    "X.shape"
   ]
  },
  {
   "cell_type": "code",
   "execution_count": 8,
   "metadata": {},
   "outputs": [
    {
     "data": {
      "text/plain": [
       "(3023,)"
      ]
     },
     "execution_count": 8,
     "metadata": {},
     "output_type": "execute_result"
    }
   ],
   "source": [
    "y.shape"
   ]
  },
  {
   "cell_type": "code",
   "execution_count": 9,
   "metadata": {},
   "outputs": [
    {
     "data": {
      "text/plain": [
       "61"
      ]
     },
     "execution_count": 9,
     "metadata": {},
     "output_type": "execute_result"
    }
   ],
   "source": [
    "max(y)"
   ]
  },
  {
   "cell_type": "code",
   "execution_count": 10,
   "metadata": {},
   "outputs": [
    {
     "data": {
      "text/plain": [
       "array([61, 25,  9, ..., 14, 15, 14], dtype=int64)"
      ]
     },
     "execution_count": 10,
     "metadata": {},
     "output_type": "execute_result"
    }
   ],
   "source": [
    "y"
   ]
  },
  {
   "cell_type": "code",
   "execution_count": 11,
   "metadata": {
    "collapsed": true
   },
   "outputs": [],
   "source": [
    "lb = LabelBinarizer()\n",
    "yBin = lb.fit_transform(y)"
   ]
  },
  {
   "cell_type": "code",
   "execution_count": 12,
   "metadata": {},
   "outputs": [
    {
     "data": {
      "text/plain": [
       "(3023, 62)"
      ]
     },
     "execution_count": 12,
     "metadata": {},
     "output_type": "execute_result"
    }
   ],
   "source": [
    "yBin.shape"
   ]
  },
  {
   "cell_type": "code",
   "execution_count": 13,
   "metadata": {},
   "outputs": [
    {
     "data": {
      "text/plain": [
       "array([0, 0, 0, 0, 0, 0, 0, 0, 0, 0, 0, 0, 0, 0, 0, 0, 0, 0, 0, 0, 0, 0,\n",
       "       0, 0, 0, 0, 0, 0, 0, 0, 0, 0, 0, 0, 0, 0, 0, 0, 0, 0, 0, 0, 0, 0,\n",
       "       0, 0, 0, 0, 0, 0, 0, 0, 0, 0, 0, 0, 0, 0, 0, 0, 0, 1])"
      ]
     },
     "execution_count": 13,
     "metadata": {},
     "output_type": "execute_result"
    }
   ],
   "source": [
    "yBin[0]"
   ]
  },
  {
   "cell_type": "code",
   "execution_count": 14,
   "metadata": {},
   "outputs": [
    {
     "data": {
      "text/plain": [
       "3023"
      ]
     },
     "execution_count": 14,
     "metadata": {},
     "output_type": "execute_result"
    }
   ],
   "source": [
    "yBin.shape[0]"
   ]
  },
  {
   "cell_type": "code",
   "execution_count": 15,
   "metadata": {},
   "outputs": [
    {
     "data": {
      "text/plain": [
       "62"
      ]
     },
     "execution_count": 15,
     "metadata": {},
     "output_type": "execute_result"
    }
   ],
   "source": [
    "yBin.shape[1]"
   ]
  },
  {
   "cell_type": "code",
   "execution_count": 16,
   "metadata": {
    "collapsed": true
   },
   "outputs": [],
   "source": [
    "n_classes = yBin.shape[1]#62 y.shape[0] returns 1867 the no of rows\n",
    "target_names = faces_db.target_names\n",
    "X_train, X_test, y_train, y_test = train_test_split(X, yBin, test_size=0.2, random_state=42)"
   ]
  },
  {
   "cell_type": "code",
   "execution_count": 17,
   "metadata": {},
   "outputs": [
    {
     "name": "stdout",
     "output_type": "stream",
     "text": [
      "(2418, 4200)\n",
      "(605, 4200)\n",
      "(2418, 62)\n",
      "(605, 62)\n"
     ]
    }
   ],
   "source": [
    "print(X_train.shape)\n",
    "print(X_test.shape)\n",
    "print(y_train.shape)\n",
    "print(y_test.shape)"
   ]
  },
  {
   "cell_type": "code",
   "execution_count": 18,
   "metadata": {},
   "outputs": [
    {
     "name": "stdout",
     "output_type": "stream",
     "text": [
      "Extracting the top 800 eigenfaces from 2418 faces\n",
      "0.9961233670692309\n"
     ]
    }
   ],
   "source": [
    "no_of_components = 800\n",
    "print(\"Extracting the top %d eigenfaces from %d faces\" % (no_of_components, X_train.shape[0]))\n",
    "pca = PCA(n_components=no_of_components,svd_solver='randomized', whiten=True).fit(X_train)\n",
    "#n_components == min(n_samples, n_features)\n",
    "eigen_faces = pca.components_ \n",
    "print(sum(pca.explained_variance_ratio_))#0.99612"
   ]
  },
  {
   "cell_type": "code",
   "execution_count": 19,
   "metadata": {},
   "outputs": [
    {
     "name": "stdout",
     "output_type": "stream",
     "text": [
      "(800, 4200)\n",
      "(800, 800)\n",
      "(2418, 800)\n"
     ]
    }
   ],
   "source": [
    "no_eigen_faces,no_features = eigen_faces.shape#150,1850\n",
    "eigen_faces_lowd = pca.transform(eigen_faces)#dimensionality reduction applied\n",
    "#eigen_faces_lowd = eigen_faces.dot(eigen_faces.transpose())\n",
    "weight_matrix = pca.transform(X_train)\n",
    "#weight_matrix = X_train.dot(eigen_faces.transpose())\n",
    "print(eigen_faces.shape)\n",
    "print(eigen_faces_lowd.shape)#150 dimension and 150 number of eigen faces\n",
    "print(weight_matrix.shape)"
   ]
  },
  {
   "cell_type": "code",
   "execution_count": 20,
   "metadata": {},
   "outputs": [
    {
     "name": "stdout",
     "output_type": "stream",
     "text": [
      "767 738\n"
     ]
    }
   ],
   "source": [
    "a = weight_matrix.sum(0)#summing all the rows\n",
    "a = a/X_train.shape[0]\n",
    "max_eigen_index = np.argmax(a)#index of max element in an array\n",
    "min_eigen_index = np.argmin(a)\n",
    "print(max_eigen_index, min_eigen_index)\n"
   ]
  },
  {
   "cell_type": "code",
   "execution_count": 22,
   "metadata": {},
   "outputs": [
    {
     "name": "stdout",
     "output_type": "stream",
     "text": [
      "Maximum Iterations : 50\n"
     ]
    }
   ],
   "source": [
    "N = eigen_faces_lowd.shape[0]#here the points are represented in row and their features in col\n",
    "dim = eigen_faces_lowd.shape[1]\n",
    "V = np.zeros([N,dim])\n",
    "S = np.zeros([N,dim])\n",
    "np.copyto(S,eigen_faces_lowd)#copies content of src into dst array\n",
    "MaxIt = 50 #int(S.shape[0]/3)#                                               WHy?????\n",
    "print(\"Maximum Iterations : %d\" % MaxIt)#50\n",
    "up = np.amax(S)#max along an axis flattened\n",
    "low = np.amin(S)"
   ]
  },
  {
   "cell_type": "code",
   "execution_count": 23,
   "metadata": {
    "collapsed": true
   },
   "outputs": [],
   "source": [
    "def CostFun(weight_matrix,e):\n",
    "    fx = abs(np.sum(e.dot(weight_matrix.transpose())))\n",
    "    #fx = np.sum(weight_matrix.dot(e.transpose()))\n",
    "    return fx\n",
    "def Evaluate(weight_matrix,S):\n",
    "    fitness = np.zeros([N,1])\n",
    "    for i in range(0,N):\n",
    "        fitness[i] = CostFun(weight_matrix,S[i])#S[0] first row,\n",
    "    return fitness# basically evaluating cost fuc of every data point(fitness stores it)"
   ]
  }
 ],
 "metadata": {
  "kernelspec": {
   "display_name": "Python 3",
   "language": "python",
   "name": "python3"
  },
  "language_info": {
   "codemirror_mode": {
    "name": "ipython",
    "version": 3
   },
   "file_extension": ".py",
   "mimetype": "text/x-python",
   "name": "python",
   "nbconvert_exporter": "python",
   "pygments_lexer": "ipython3",
   "version": "3.6.6"
  }
 },
 "nbformat": 4,
 "nbformat_minor": 2
}
